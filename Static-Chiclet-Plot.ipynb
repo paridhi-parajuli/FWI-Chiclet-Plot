{
 "cells": [
  {
   "cell_type": "code",
   "execution_count": 39,
   "id": "dd135869-8899-4d43-8c3d-4b6c715b9dcf",
   "metadata": {},
   "outputs": [],
   "source": [
    "import geopandas as gpd\n",
    "import numpy as np\n",
    "import pandas as pd\n",
    "import xarray as xr\n",
    "import warnings\n",
    "import matplotlib.pyplot as plt\n",
    "warnings.filterwarnings('ignore')"
   ]
  },
  {
   "cell_type": "code",
   "execution_count": 40,
   "id": "b099d537-79b0-461e-b6e4-dbc61a2f0ad8",
   "metadata": {},
   "outputs": [],
   "source": [
    "# Read the file \n",
    "gdf=gpd.read_file(\"s3://veda-data-store-staging/EIS/other/feds-output-conus/latest/perim-large.fgb\", engine=\"pyogrio\")"
   ]
  },
  {
   "cell_type": "code",
   "execution_count": 41,
   "id": "c651c949-34e6-4066-8276-85c32a70995d",
   "metadata": {},
   "outputs": [],
   "source": [
    "# Change thr crs if needed\n",
    "gdf=gdf.to_crs(4326)"
   ]
  },
  {
   "cell_type": "code",
   "execution_count": 42,
   "id": "293fe175-ea02-4a1f-b2f3-0aa6b0460007",
   "metadata": {},
   "outputs": [],
   "source": [
    "# Choose any row form the geo dataframe\n",
    "gdf=gdf.query(\"fid==34789\")\n",
    "\n",
    "# Find the centroid of each Polygon\n",
    "gdf[\"centroid\"] = gdf[\"geometry\"].to_crs(crs=gdf.crs).centroid\n",
    "\n",
    "# Draw a buffer around the perimeter of the polygon to extend it\n",
    "gdf[\"buf\"]=gdf[\"geometry\"].buffer(0.005)"
   ]
  },
  {
   "cell_type": "code",
   "execution_count": 43,
   "id": "7639e459-fbf9-44e6-a6dc-f14906bc6c6c",
   "metadata": {},
   "outputs": [
    {
     "data": {
      "text/plain": [
       "<AxesSubplot:>"
      ]
     },
     "execution_count": 43,
     "metadata": {},
     "output_type": "execute_result"
    },
    {
     "data": {
      "image/png": "[encoded data removed]",
      "text/plain": [
       "<Figure size 432x288 with 1 Axes>"
      ]
     },
     "metadata": {
      "needs_background": "light"
     },
     "output_type": "display_data"
    }
   ],
   "source": [
    "# Plotting the buffered polygon with centroid\n",
    "ax= gdf.plot(alpha=0.8,color='red')\n",
    "gdf['centroid'].plot(ax=ax, color=\"blue\")\n",
    "gdf['buf'].plot(ax=ax,color='red', alpha=0.2)"
   ]
  },
  {
   "cell_type": "code",
   "execution_count": 44,
   "id": "1820a269-ed8c-4b5e-ab1a-9e77e5459808",
   "metadata": {},
   "outputs": [],
   "source": [
    "# Read the fire data\n",
    "ds= xr.open_zarr(\"s3://veda-data-store-staging/EIS/zarr/FWI.GEOS-5.zarr\")"
   ]
  },
  {
   "cell_type": "code",
   "execution_count": 45,
   "id": "3800b6a9-f3d2-4f3a-942d-db3ba1633622",
   "metadata": {},
   "outputs": [],
   "source": [
    "# Renaming the axis\n",
    "ds=ds.rename({\"lat\": 'y', \"lon\": 'x'})\n",
    "\n",
    "# Changing crs to match with the geo dataframe\n",
    "ds.rio.write_crs(\"epsg:4326\", inplace=True)\n",
    "\n",
    "# Taking the variable of interest\n",
    "ds=ds[\"GEOS-5_FWI\"]"
   ]
  },
  {
   "cell_type": "code",
   "execution_count": 46,
   "id": "bfe87bac-9f55-4baf-a289-7243ca2e8de1",
   "metadata": {},
   "outputs": [],
   "source": [
    "# Selecting data on time range.\n",
    "ds=ds.sel(time=slice(\"2021-07-01\",\"2021-07-12\"))"
   ]
  },
  {
   "cell_type": "code",
   "execution_count": 47,
   "id": "f1200f5f-21d0-4366-ae2d-7d308cc52995",
   "metadata": {},
   "outputs": [],
   "source": [
    "# Clipping the fire data over the specified region\n",
    "clipped = ds.rio.clip(gdf.buf, gdf.crs, drop=True,all_touched=True)"
   ]
  },
  {
   "cell_type": "code",
   "execution_count": 48,
   "id": "49e90a13-4a50-4058-bdf5-b5a7ca679b15",
   "metadata": {},
   "outputs": [],
   "source": [
    "# Taking mean over the region\n",
    "x= clipped.mean(dim=['x','y'],skipna=True)"
   ]
  },
  {
   "cell_type": "code",
   "execution_count": 57,
   "id": "15b3e925-363f-4742-8e27-a5b8e381da7a",
   "metadata": {},
   "outputs": [],
   "source": [
    "# Diagonally shiftting the data for chiclet plot\n",
    "tmp = np.array([np.roll(np.array(x.sel(forecast=i).values), i) for i in range(9)])\n",
    "for i in range(len(tmp)):\n",
    "    tmp[i,:i]=np.NaN\n",
    "ys = np.arange(9)\n",
    "xs = xs = x.time.values\n",
    "zs=tmp"
   ]
  },
  {
   "cell_type": "code",
   "execution_count": 66,
   "id": "36bfb227-887f-47fb-bfd9-05c71b23e3a4",
   "metadata": {},
   "outputs": [
    {
     "data": {
      "image/png": "[encoded data removed]",
      "text/plain": [
       "<Figure size 864x432 with 2 Axes>"
      ]
     },
     "metadata": {
      "needs_background": "light"
     },
     "output_type": "display_data"
    }
   ],
   "source": [
    "# Display the Plot\n",
    "plt.figure(figsize=(12,6))\n",
    "plt.title(\"Chiclet plot for mean FWI index over the area\")\n",
    "plt.pcolormesh(xs,ys,tmp, cmap=\"Oranges\")\n",
    "plt.xlabel(\"Date\")\n",
    "plt.ylabel(\"Forecast\")\n",
    "plt.colorbar()\n",
    "plt.show()"
   ]
  }
 ],
 "metadata": {
  "kernelspec": {
   "display_name": "Python [conda env:nb2]",
   "language": "python",
   "name": "conda-env-nb2-py"
  },
  "language_info": {
   "codemirror_mode": {
    "name": "ipython",
    "version": 3
   },
   "file_extension": ".py",
   "mimetype": "text/x-python",
   "name": "python",
   "nbconvert_exporter": "python",
   "pygments_lexer": "ipython3",
   "version": "3.9.13"
  }
 },
 "nbformat": 4,
 "nbformat_minor": 5
}
